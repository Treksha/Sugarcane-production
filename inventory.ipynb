{
 "cells": [
  {
   "cell_type": "code",
   "execution_count": 1,
   "id": "69d45c23",
   "metadata": {},
   "outputs": [],
   "source": [
    "fd=open(\"inventory.txt\", 'w')\n",
    "fd.close()\n"
   ]
  },
  {
   "cell_type": "markdown",
   "id": "5ee3392a",
   "metadata": {},
   "source": [
    "Product Details\n",
    "1.prodduct Id\n",
    "2.Name of product\n",
    "3.price of product\n",
    "4.quantity"
   ]
  },
  {
   "cell_type": "code",
   "execution_count": 2,
   "id": "a0846a0b",
   "metadata": {},
   "outputs": [],
   "source": [
    "with open(\"inventory.txt\",\"w\") as file:\n",
    "    file.write(\"1,Onion,20,100\\n\")\n",
    "    file.write(\"2,Potato,25,100\\n\")\n",
    "    file.write(\"3,Ginger,300,5\\n\")\n",
    "    file.write(\"4,Garlic,150,20\\n\")"
   ]
  },
  {
   "cell_type": "code",
   "execution_count": 3,
   "id": "8e473a80",
   "metadata": {},
   "outputs": [
    {
     "name": "stdout",
     "output_type": "stream",
     "text": [
      "1,Onion,20,100\n",
      "2,Potato,25,100\n",
      "3,Ginger,300,5\n",
      "4,Garlic,150,20\n",
      "\n"
     ]
    }
   ],
   "source": [
    "with open(\"inventory.txt\",\"r\") as file:\n",
    "    data=file.read()\n",
    "#printing the data\n",
    "print(data)    "
   ]
  },
  {
   "cell_type": "code",
   "execution_count": 4,
   "id": "d2f24efd",
   "metadata": {},
   "outputs": [
    {
     "name": "stdout",
     "output_type": "stream",
     "text": [
      "total unique products: 4\n"
     ]
    }
   ],
   "source": [
    "#split the data into lines\n",
    "products=data.splitlines()\n",
    "#count unique product\n",
    "unique_products=len(products)\n",
    "print(f\"total unique products: {unique_products}\")"
   ]
  },
  {
   "cell_type": "code",
   "execution_count": 5,
   "id": "400f2e8d",
   "metadata": {},
   "outputs": [
    {
     "name": "stdout",
     "output_type": "stream",
     "text": [
      "product Id:1,Name:Onion,Price:20,Quantity:100\n",
      "product Id:2,Name:Potato,Price:25,Quantity:100\n",
      "product Id:3,Name:Ginger,Price:300,Quantity:5\n",
      "product Id:4,Name:Garlic,Price:150,Quantity:20\n"
     ]
    }
   ],
   "source": [
    "\n",
    "for product in products:\n",
    "    details=product.split(\",\")\n",
    "    product_id=details[0]\n",
    "    product_name=details[1]\n",
    "    product_price=details[2]\n",
    "    product_quantity=details[3]\n",
    "    print(f\"product Id:{product_id},Name:{product_name},Price:{product_price},Quantity:{product_quantity}\")"
   ]
  },
  {
   "cell_type": "code",
   "execution_count": 6,
   "id": "8f6d0013",
   "metadata": {},
   "outputs": [
    {
     "name": "stdout",
     "output_type": "stream",
     "text": [
      "-------------------------\n",
      "product Name : Potato\n",
      "price  : 25\n",
      "Available Stock: 100\n",
      "---------------------------\n"
     ]
    }
   ],
   "source": [
    "us_prod_id=input(\"enter product ID:\")\n",
    "for product in products:\n",
    "    prod_details=product.split(\",\")\n",
    "    if prod_details[0]==us_prod_id:\n",
    "        print(\"-------------------------\")\n",
    "        print(\"product Name :\", prod_details[1])\n",
    "        print(\"price  :\",prod_details[2])\n",
    "        print(\"Available Stock:\", prod_details[3])\n",
    "        print(\"---------------------------\")"
   ]
  },
  {
   "cell_type": "code",
   "execution_count": null,
   "id": "a2b490f6",
   "metadata": {},
   "outputs": [],
   "source": []
  },
  {
   "cell_type": "markdown",
   "id": "799000ba",
   "metadata": {},
   "source": [
    "Generate a Bill"
   ]
  },
  {
   "cell_type": "code",
   "execution_count": null,
   "id": "e78044d1",
   "metadata": {},
   "outputs": [
    {
     "ename": "NameError",
     "evalue": "name 'ui_prod_id' is not defined",
     "output_type": "error",
     "traceback": [
      "\u001b[31m---------------------------------------------------------------------------\u001b[39m",
      "\u001b[31mNameError\u001b[39m                                 Traceback (most recent call last)",
      "\u001b[36mCell\u001b[39m\u001b[36m \u001b[39m\u001b[32mIn[8]\u001b[39m\u001b[32m, line 3\u001b[39m\n\u001b[32m      1\u001b[39m \u001b[38;5;28;01mfor\u001b[39;00m product \u001b[38;5;129;01min\u001b[39;00m products:\n\u001b[32m      2\u001b[39m     prod_details=product.split(\u001b[33m\"\u001b[39m\u001b[33m,\u001b[39m\u001b[33m\"\u001b[39m)\n\u001b[32m----> \u001b[39m\u001b[32m3\u001b[39m     \u001b[38;5;28;01mif\u001b[39;00m prod_details[\u001b[32m0\u001b[39m]==\u001b[43mui_prod_id\u001b[49m:\n\u001b[32m      4\u001b[39m         \u001b[38;5;28mprint\u001b[39m(\u001b[33m\"\u001b[39m\u001b[33m-----------------------\u001b[39m\u001b[33m\"\u001b[39m)\n\u001b[32m      5\u001b[39m         \u001b[38;5;28mprint\u001b[39m(\u001b[33m'\u001b[39m\u001b[33mproduct Name :\u001b[39m\u001b[33m'\u001b[39m ,prod_details[\u001b[32m1\u001b[39m])\n",
      "\u001b[31mNameError\u001b[39m: name 'ui_prod_id' is not defined"
     ]
    }
   ],
   "source": [
    "\n",
    "for product in products:\n",
    "    prod_details=product.split(\",\")\n",
    "    if prod_details[0]==ui_prod_id:\n",
    "        print(\"-----------------------\")\n",
    "        print('product Name :' ,prod_details[1])\n",
    "        print(\"price  :\",prod_details[2])\n",
    "        print(\"Quantity  :\",ui_prod_qn)\n",
    "        print('----------------------------')\n",
    "        #calculating billing amount\n",
    "        billing_amount=int(ui_prod_qn)*int(prod_details[2])\n",
    "        print(\"Billing Amount  :\", billing_amount)\n",
    "        print(\"---------------------------------\")\n",
    "        prod_details[3]=str(int(prod_details[3])-int(ui_prod_qn))\n",
    "        updated_product_lst=[]\n",
    "        updated_product_lst.append(prod_details)\n"
   ]
  },
  {
   "cell_type": "code",
   "execution_count": null,
   "id": "33abcb20",
   "metadata": {},
   "outputs": [],
   "source": [
    "us_prod_id= int(\"  \")"
   ]
  },
  {
   "cell_type": "code",
   "execution_count": null,
   "id": "2fcc1ccc",
   "metadata": {},
   "outputs": [
    {
     "ename": "NameError",
     "evalue": "name 'products' is not defined",
     "output_type": "error",
     "traceback": [
      "\u001b[31m---------------------------------------------------------------------------\u001b[39m",
      "\u001b[31mNameError\u001b[39m                                 Traceback (most recent call last)",
      "\u001b[36mCell\u001b[39m\u001b[36m \u001b[39m\u001b[32mIn[1]\u001b[39m\u001b[32m, line 1\u001b[39m\n\u001b[32m----> \u001b[39m\u001b[32m1\u001b[39m \u001b[38;5;28;01mfor\u001b[39;00m product \u001b[38;5;129;01min\u001b[39;00m \u001b[43mproducts\u001b[49m:\n\u001b[32m      2\u001b[39m     prod_details=product.split(\u001b[33m\"\u001b[39m\u001b[33m,\u001b[39m\u001b[33m\"\u001b[39m)\n\u001b[32m      3\u001b[39m     \u001b[38;5;28;01mif\u001b[39;00m (prod_details[\u001b[32m0\u001b[39m]==ui_prod_id):\n",
      "\u001b[31mNameError\u001b[39m: name 'products' is not defined"
     ]
    }
   ],
   "source": [
    "for product in products:\n",
    "    prod_details=product.split(\",\")\n",
    "    if (prod_details[0]==ui_prod_id):\n",
    "        if(int(ui_prod_qn)<=int(prod_details[3])):\n",
    "            print(\"------------------------------------\")\n",
    "            print(\"product name  :\",prod_details[1])\n",
    "            print(\"price   :\",prod_details[2])\n",
    "            print(\"Quantity  :\",ui_prod_qn)\n",
    "            print(\"---------------------------------------\")\n",
    "            print(\"Billing Amount: \", int(ui_prod_qn)* int(prod_details[2]))\n",
    "            print(\"-----------------------------------\")\n",
    "        # Update stock quantity\n",
    "            prod_details[3]=str(int(prod_details[3])-int(ui_prod_qn))\n",
    "        else:\n",
    "            # if stock is insufficient \n",
    "            print(\"Sorry, We're not having enough quantity.\")\n",
    "            print(\"we're having only\",prod_details[3],'quantity.')\n",
    "            print('Would you like to purchase it?')\n",
    "            ch=input(\"press Y/N:\")\n",
    "            if(ch=='Y' or ch=='y'):\n",
    "                #if user agree to purchase available stock\n",
    "                print(\"------------\")\n",
    "                print(\"product Name  :\", prod_details[1])\n",
    "                print(\"price   :\", prod_details[2])\n",
    "                print(\"Quantity    :\",prod_details[3])\n",
    "                print(\"--------------------------\")\n",
    "                print(\"Billing Amount :\",int(prod_details[3])*int(prod_details[2]))\n",
    "                print(\"-----------------------\")\n",
    "            # update inventory by selling all available stock\n",
    "                prod_details[3]='0'\n",
    "            else:\n",
    "                print(\"THANKS!\")\n",
    "        #Add product details to the updated list \n",
    "            updated_product_lst.append(prod_details)    "
   ]
  },
  {
   "cell_type": "code",
   "execution_count": null,
   "id": "77d9f90c",
   "metadata": {},
   "outputs": [],
   "source": [
    "fd=open('inventory.txt','r')\n",
    "product=fd.read().split('\\n')\n",
    "fd.close()"
   ]
  },
  {
   "cell_type": "code",
   "execution_count": 11,
   "id": "f55e15ef",
   "metadata": {},
   "outputs": [],
   "source": [
    "#taking user input \n",
    "ui_username=input(\"enter your name:\")\n",
    "ui_phone= input(\"enter your phone no:\")\n",
    "ui_mail= input(\"enter your mail:\")\n",
    "ui_prod_id= input(\"enter product ID:\")\n",
    "ui_prod_qn=input(\"enter product quaantity:\")\n",
    "#writing updated inventory to file\n",
    "lst=[]\n",
    "fd= open(\"inventory.txt\", 'w')\n",
    "for i in lst:\n",
    "    fd.write(i)\n",
    "    fd.close()\n",
    "    print(\"--------------\")\n",
    "    print(\"Inventory Updated\")"
   ]
  },
  {
   "cell_type": "code",
   "execution_count": null,
   "id": "3aebffb0",
   "metadata": {},
   "outputs": [],
   "source": []
  }
 ],
 "metadata": {
  "kernelspec": {
   "display_name": ".venv",
   "language": "python",
   "name": "python3"
  },
  "language_info": {
   "codemirror_mode": {
    "name": "ipython",
    "version": 3
   },
   "file_extension": ".py",
   "mimetype": "text/x-python",
   "name": "python",
   "nbconvert_exporter": "python",
   "pygments_lexer": "ipython3",
   "version": "3.12.9"
  }
 },
 "nbformat": 4,
 "nbformat_minor": 5
}
