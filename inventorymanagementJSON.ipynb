{
 "cells": [
  {
   "cell_type": "code",
   "execution_count": 2,
   "id": "57f4a3be",
   "metadata": {},
   "outputs": [],
   "source": [
    "record= {\n",
    "    100 :{\"name:\" \"candy\", \"price:\" \"20\", \"Qn:\" \"200\"},\n",
    "    101: {\"name:\" \" banana chips\", \"price:\" \"10\", \"Qn:\" '23'}\n",
    "}\n"
   ]
  },
  {
   "cell_type": "code",
   "execution_count": 3,
   "id": "567ab626",
   "metadata": {},
   "outputs": [
    {
     "data": {
      "text/plain": [
       "{100: {'Qn:200', 'name:candy', 'price:20'},\n",
       " 101: {'Qn:23', 'name: banana chips', 'price:10'}}"
      ]
     },
     "execution_count": 3,
     "metadata": {},
     "output_type": "execute_result"
    }
   ],
   "source": [
    "record"
   ]
  },
  {
   "cell_type": "code",
   "execution_count": 4,
   "id": "ba98f098",
   "metadata": {},
   "outputs": [
    {
     "name": "stdout",
     "output_type": "stream",
     "text": [
      "......................MENU....................................\n",
      "100 candy 20 200\n",
      "--------------------------------------------\n",
      "\n",
      "name : candy\n",
      "price(Rs): 20\n",
      "quantity: 23\n",
      "-----------------------------------\n",
      "billing : 460 Rs\n",
      "-------------------------------------\n",
      "\n",
      "Thanks for your order, Inventory Updated! \n",
      "------------------------------------------\n",
      "101  banana chips 10 23\n",
      "--------------------------------------------\n",
      "\n",
      "name :  banana chips\n",
      "price(Rs): 10\n",
      "quantity: 33\n",
      "-----------------------------------\n",
      "billing : 330 Rs\n",
      "-------------------------------------\n",
      "\n",
      "Thanks for your order, Inventory Updated! \n",
      "------------------------------------------\n"
     ]
    }
   ],
   "source": [
    "record= {\n",
    "    100 :{\"name\": \"candy\", \"price\": 20, \"Qn\": 200},\n",
    "    101: {\"name\": \" banana chips\", \"price\": 10, \"Qn\": 23}\n",
    "}\n",
    "import json\n",
    "print(\"......................MENU....................................\")\n",
    "for key in record.keys():\n",
    "    print(key,record[key]['name'],record[key]['price'],record[key]['Qn'])\n",
    "    print(\"--------------------------------------------\\n\")\n",
    "    ui_pr=int(input(\"enter product ID:\"))\n",
    "    ui_qn=int(input(\"enter quantity:\"))\n",
    "    print(\"name :\", record[ui_pr][\"name\"])\n",
    "    print(\"price(Rs):\",record[ui_pr][\"price\"])\n",
    "    print(\"quantity:\",ui_qn)\n",
    "    print(\"-----------------------------------\")\n",
    "    print(\"billing :\", ui_qn*record[ui_pr][\"price\"],\"Rs\")\n",
    "    print(\"-------------------------------------\")\n",
    "    record[ui_pr]['Qn']=record[ui_pr][\"Qn\"]-ui_qn\n",
    "    print('')\n",
    "    print(\"Thanks for your order, Inventory Updated! \")\n",
    "    print(\"------------------------------------------\")"
   ]
  },
  {
   "cell_type": "code",
   "execution_count": 5,
   "id": "b354e76a",
   "metadata": {},
   "outputs": [
    {
     "name": "stdout",
     "output_type": "stream",
     "text": [
      "Inventory saved successfully !\n"
     ]
    }
   ],
   "source": [
    "import json\n",
    "#converrting dictonary to json string\n",
    "json_data=json.dumps(record)\n",
    "\n",
    "#writing file\n",
    "fd=open(\"records.json\",'w')\n",
    "fd.write(json_data)\n",
    "fd.close()\n",
    "print(\"Inventory saved successfully !\")"
   ]
  },
  {
   "cell_type": "code",
   "execution_count": 6,
   "id": "8629563d",
   "metadata": {},
   "outputs": [],
   "source": [
    "import json\n",
    "fd=open('records.json','r')\n",
    "js=fd.read()\n",
    "fd.close()\n",
    "record=json.loads(js)#convert JSON string to dictonary"
   ]
  },
  {
   "cell_type": "code",
   "execution_count": 7,
   "id": "117f359d",
   "metadata": {},
   "outputs": [],
   "source": [
    "#save updated inventory to JSON\n",
    "js=json.dumps(record)\n",
    "fd=open(\"records.json\",'w')\n",
    "fd.write(js)\n",
    "fd.close()"
   ]
  },
  {
   "cell_type": "code",
   "execution_count": 8,
   "id": "11469d19",
   "metadata": {},
   "outputs": [
    {
     "name": "stdout",
     "output_type": "stream",
     "text": [
      "......................MENU....................................\n",
      "100 candy 20 200\n",
      "--------------------------------------------\n",
      "\n",
      "name : candy\n",
      "price(Rs): 20\n",
      "quantity: 2\n",
      "-----------------------------------\n",
      "billing : 40 Rs\n",
      "-------------------------------------\n",
      "\n",
      "Thanks for your order, Inventory Updated! \n",
      "------------------------------------------\n",
      "101  banana chips 10 23\n",
      "--------------------------------------------\n",
      "\n",
      "name :  banana chips\n",
      "price(Rs): 10\n",
      "quantity: 7\n",
      "-----------------------------------\n",
      "billing : 70 Rs\n",
      "-------------------------------------\n",
      "\n",
      "Thanks for your order, Inventory Updated! \n",
      "------------------------------------------\n",
      "name :   banana chips\n",
      "price(RS): 10\n",
      "quantity: 7\n",
      "---------------------------\n",
      "Billing : 70 Rs\n",
      "----------------------------------------\n"
     ]
    }
   ],
   "source": [
    "record= {\n",
    "    100 :{\"name\": \"candy\", \"price\": 20, \"Qn\": 200},\n",
    "    101: {\"name\": \" banana chips\", \"price\": 10, \"Qn\": 23}\n",
    "}\n",
    "import json\n",
    "print(\"......................MENU....................................\")\n",
    "for key in record.keys():\n",
    "    print(key,record[key]['name'],record[key]['price'],record[key]['Qn'])\n",
    "    print(\"--------------------------------------------\\n\")\n",
    "    ui_pr=int(input(\"enter product ID:\"))\n",
    "    ui_qn=int(input(\"enter quantity:\"))\n",
    "    print(\"name :\", record[ui_pr][\"name\"])\n",
    "    print(\"price(Rs):\",record[ui_pr][\"price\"])\n",
    "    print(\"quantity:\",ui_qn)\n",
    "    print(\"-----------------------------------\")\n",
    "    print(\"billing :\", ui_qn*record[ui_pr][\"price\"],\"Rs\")\n",
    "    print(\"-------------------------------------\")\n",
    "    record[ui_pr]['Qn']=record[ui_pr][\"Qn\"]-ui_qn\n",
    "    print('')\n",
    "    print(\"Thanks for your order, Inventory Updated! \")\n",
    "    print(\"------------------------------------------\")\n",
    "\n",
    "if (record[ui_pr]['Qn']>=ui_qn):\n",
    "    print(\"name : \",record[ui_pr]['name'])\n",
    "    print(\"price(RS):\", record[ui_pr]['price'])\n",
    "    print(\"quantity:\", ui_qn)\n",
    "    print(\"---------------------------\")\n",
    "    print(\"Billing :\",ui_qn*record[ui_pr][\"price\"],\"Rs\")\n",
    "    print(\"----------------------------------------\")\n",
    "\n",
    "    #reduce the stock\n",
    "    record[ui_pr]['Qn']=record[ui_pr]['Qn']-ui_qn\n",
    "    \n",
    "else:\n",
    "    print(\"Sorry, we're not having enough quantity of product in our Inventory.\")\n",
    "    print(\"we're only having \"+  str(record[ui_pr]['Qn'])+'quantity.')\n",
    "    print(\"--------------------------------------------\")\n",
    "    ch=str(input(\"press Y to purchase:\"))\n",
    "    if(ch==\"Y\" or ch=='y'):\n",
    "        print(\"--------------------------------\")\n",
    "        print(\"name :\", record[ui_pr]['name'])\n",
    "        print(\"price(Rs):\", record[ui_pr]['price'])\n",
    "        print(\"Quantity:\", record[ui_pr]['Qn'])\n",
    "        print('------------------------------')\n",
    "        print(\"Billing :\", record[ui_pr][\"Qn\"]*record[ui_pr]['price'],'Rs')\n",
    "        print(\"----------------------------------\")\n",
    "        record[ui_pr]['Qn']=0\n",
    "    else:\n",
    "        print(\"Thanks!\")"
   ]
  },
  {
   "cell_type": "code",
   "execution_count": 9,
   "id": "7a0d6554",
   "metadata": {},
   "outputs": [],
   "source": [
    "js=json.dumps(record)\n",
    "fd=open(\"records.json\",'w')\n",
    "fd.write(js)\n",
    "record=json.loads(js)\n",
    "fd.close()"
   ]
  },
  {
   "cell_type": "code",
   "execution_count": 1,
   "id": "2b5d9003",
   "metadata": {},
   "outputs": [
    {
     "name": "stdout",
     "output_type": "stream",
     "text": [
      "Billing :  40 Rs\n"
     ]
    },
    {
     "ename": "TypeError",
     "evalue": "bad operand type for unary +: 'str'",
     "output_type": "error",
     "traceback": [
      "\u001b[31m---------------------------------------------------------------------------\u001b[39m",
      "\u001b[31mTypeError\u001b[39m                                 Traceback (most recent call last)",
      "\u001b[36mCell\u001b[39m\u001b[36m \u001b[39m\u001b[32mIn[1]\u001b[39m\u001b[32m, line 17\u001b[39m\n\u001b[32m     15\u001b[39m     sale= ui_name+\u001b[33m'\u001b[39m\u001b[33m,\u001b[39m\u001b[33m'\u001b[39m+ ui_mail +\u001b[33m\"\u001b[39m\u001b[33m,\u001b[39m\u001b[33m\"\u001b[39m+\u001b[38;5;28mstr\u001b[39m(ui_pr) +\u001b[33m'\u001b[39m\u001b[33m,\u001b[39m\u001b[33m'\u001b[39m\n\u001b[32m     16\u001b[39m     sale += \u001b[33m\"\u001b[39m\u001b[33mName:\u001b[39m\u001b[33m\"\u001b[39m +\u001b[38;5;28mstr\u001b[39m(ui_qn)+ \u001b[33m\"\u001b[39m\u001b[33m,\u001b[39m\u001b[33m\"\u001b[39m +\u001b[38;5;28mstr\u001b[39m(record[ui_pr][\u001b[33m\"\u001b[39m\u001b[33mprice\u001b[39m\u001b[33m\"\u001b[39m])\n\u001b[32m---> \u001b[39m\u001b[32m17\u001b[39m     \u001b[43m+\u001b[49m\u001b[33;43m'\u001b[39;49m\u001b[33;43m,\u001b[39;49m\u001b[33;43m'\u001b[39;49m +\u001b[38;5;28mstr\u001b[39m(record[ui_pr][\u001b[33m'\u001b[39m\u001b[33mQn\u001b[39m\u001b[33m'\u001b[39m] * record[ui_pr][\u001b[33m\"\u001b[39m\u001b[33mprice\u001b[39m\u001b[33m\"\u001b[39m]) + \u001b[33m\"\u001b[39m\u001b[33m,\u001b[39m\u001b[33m\"\u001b[39m + time.ctime() +\u001b[33m\"\u001b[39m\u001b[38;5;130;01m\\n\u001b[39;00m\u001b[33m\"\u001b[39m\n\u001b[32m     18\u001b[39m \u001b[38;5;28;01melse\u001b[39;00m:\n\u001b[32m     19\u001b[39m     \u001b[38;5;28mprint\u001b[39m(\u001b[33m\"\u001b[39m\u001b[33mSorry, insufficient stock.\u001b[39m\u001b[33m\"\u001b[39m)\n",
      "\u001b[31mTypeError\u001b[39m: bad operand type for unary +: 'str'"
     ]
    }
   ],
   "source": [
    "import time\n",
    "record= {\n",
    "    100 :{\"name\": \"candy\", \"price\": 20, \"Qn\": 200},\n",
    "    101: {\"name\": \" banana chips\", \"price\": 10, \"Qn\": 23}\n",
    "}\n",
    "ui_name=str(input(\"Enter your name : \"))\n",
    "ui_mail= str(input(\"Enter Mail ID : \"))\n",
    "ui_ph= str(input(\"Enter Phone NO : \"))\n",
    "ui_pr= int(input('enter product ID :'))\n",
    "ui_qn= int(input('enter Quantity :'))\n",
    "if(record[ui_pr]['Qn']>=ui_qn):\n",
    "    print(\"Billing : \",ui_qn * record[ui_pr][\"price\"], \"Rs\")\n",
    "    record[ui_pr]['Qn']-=ui_qn\n",
    "    # prepare sales record \n",
    "    sale= ui_name+','+ ui_mail +\",\"+str(ui_pr) +','\n",
    "    sale += \"Name:\" +str(ui_qn)+ \",\" +str(record[ui_pr][\"price\"])\n",
    "    +',' +str(record[ui_pr]['Qn'] * record[ui_pr][\"price\"]) + \",\" + time.ctime() +\"\\n\"\n",
    "else:\n",
    "    print(\"Sorry, insufficient stock.\")\n",
    "    print(\"Available quqntity:\" +str(record[ui_pr]['Qn']))\n",
    "    ch=str(input(\"Press Y to purchase available stock :\"))\n",
    "    if(ch==\"Y\" or ch=='y'):\n",
    "        sale=ui_name+','+ui_mail+\",\"+str(ui_pr)+','\\\n",
    "        \"Name:\"+ \",\" +str(ui_qn)+\",\"+str(record[ui_pr][\"price\"])+','+str(ui_qn*record[ui_pr][\"price\"])+\",\"+time.ctime()+\"\\n\"\n",
    "        record[ui_pr]['Qn']=0\n",
    "    else:\n",
    "        print(\"Thanks!\")\n",
    "        sale='' #No sale recorded\n",
    "js=json.dumps(record)\n",
    "#save updated inventory\n",
    "fd= open(\"Record.json\",'w')\n",
    "fd.write(json.dumps(record))\n",
    "fd.close()\n",
    "\n",
    "fd=open(\"Sales.txt\",'a')\n",
    "fd.wwrite(sale)\n",
    "fd.close()\n"
   ]
  }
 ],
 "metadata": {
  "kernelspec": {
   "display_name": ".venv",
   "language": "python",
   "name": "python3"
  },
  "language_info": {
   "codemirror_mode": {
    "name": "ipython",
    "version": 3
   },
   "file_extension": ".py",
   "mimetype": "text/x-python",
   "name": "python",
   "nbconvert_exporter": "python",
   "pygments_lexer": "ipython3",
   "version": "3.12.9"
  }
 },
 "nbformat": 4,
 "nbformat_minor": 5
}
