{
 "cells": [
  {
   "cell_type": "code",
   "execution_count": 1,
   "id": "89abccc2",
   "metadata": {},
   "outputs": [],
   "source": [
    "fd=open(\"data.txt\",\"r\")\n",
    "txt=fd.read()\n",
    "fd.close()"
   ]
  },
  {
   "cell_type": "markdown",
   "id": "7f229d43",
   "metadata": {},
   "source": [
    "length of paragraph"
   ]
  },
  {
   "cell_type": "code",
   "execution_count": 2,
   "id": "96caa272",
   "metadata": {},
   "outputs": [
    {
     "name": "stdout",
     "output_type": "stream",
     "text": [
      "total paragraphs: 1\n"
     ]
    }
   ],
   "source": [
    "paragraphs=txt.split(\"\\n\\n\")\n",
    "print(f\"total paragraphs: {len(paragraphs)}\")"
   ]
  },
  {
   "cell_type": "code",
   "execution_count": 3,
   "id": "7fb76aeb",
   "metadata": {},
   "outputs": [
    {
     "data": {
      "text/plain": [
       "0"
      ]
     },
     "execution_count": 3,
     "metadata": {},
     "output_type": "execute_result"
    }
   ],
   "source": [
    "lines=txt.split(\".\")\n",
    "len(lines[:-1])"
   ]
  },
  {
   "cell_type": "code",
   "execution_count": 4,
   "id": "ab016511",
   "metadata": {},
   "outputs": [
    {
     "data": {
      "text/plain": [
       "22"
      ]
     },
     "execution_count": 4,
     "metadata": {},
     "output_type": "execute_result"
    }
   ],
   "source": [
    "words=txt.split(\" \")\n",
    "len(words)"
   ]
  },
  {
   "cell_type": "code",
   "execution_count": 5,
   "id": "c11ddeb7",
   "metadata": {},
   "outputs": [
    {
     "name": "stdout",
     "output_type": "stream",
     "text": [
      "the name maharaja was Anup who had the power of the nation who score the run in match of final \"kapile Dev\"\n",
      "\n",
      "the name maharaja was Anup who had the power of the nation who score the run in match of final \"kapile Dev\"\n",
      "\n",
      "the name maharaja was Anup who had the power of the nation who score the run in match of final \"kapile Dev\"\n",
      "\n",
      "the name maharaja was Anup who had the power of the nation who score the run in match of final \"kapile Dev\"\n",
      "\n",
      "the name maharaja was Anup who had the power of the nation who score the run in match of final \"kapile Dev\"\n",
      "\n",
      "the name maharaja was Anup who had the power of the nation who score the run in match of final \"kapile Dev\"\n",
      "\n",
      "the name maharaja was Anup who had the power of the nation who score the run in match of final \"kapile Dev\"\n",
      "\n",
      "the name maharaja was Anup who had the power of the nation who score the run in match of final \"kapile Dev\"\n",
      "\n",
      "the name maharaja was Anup who had the power of the nation who score the run in match of final \"kapile Dev\"\n",
      "\n",
      "the name maharaja was Anup who had the power of the nation who score the run in match of final \"kapile Dev\"\n",
      "\n",
      "the name maharaja was Anup who had the power of the nation who score the run in match of final \"kapile Dev\"\n",
      "\n",
      "the name maharaja was Anup who had the power of the nation who score the run in match of final \"kapile Dev\"\n",
      "\n",
      "the name maharaja was Anup who had the power of the nation who score the run in match of final \"kapile Dev\"\n",
      "\n",
      "the name maharaja was Anup who had the power of the nation who score the run in match of final \"kapile Dev\"\n",
      "\n",
      "the name maharaja was Anup who had the power of the nation who score the run in match of final \"kapile Dev\"\n",
      "\n",
      "the name maharaja was Anup who had the power of the nation who score the run in match of final \"kapile Dev\"\n",
      "\n",
      "the name maharaja was Anup who had the power of the nation who score the run in match of final \"kapile Dev\"\n",
      "\n",
      "the name maharaja was Anup who had the power of the nation who score the run in match of final \"kapile Dev\"\n",
      "\n",
      "the name maharaja was Anup who had the power of the nation who score the run in match of final \"kapile Dev\"\n",
      "\n",
      "the name maharaja was Anup who had the power of the nation who score the run in match of final \"kapile Dev\"\n",
      "\n",
      "the name maharaja was Anup who had the power of the nation who score the run in match of final \"kapile Dev\"\n",
      "\n",
      "the name maharaja was Anup who had the power of the nation who score the run in match of final \"kapile Dev\"\n",
      "\n",
      "the name maharaja was Anup who had the power of the nation who score the run in match of final \"kapile Dev\"\n",
      "\n",
      "the name maharaja was Anup who had the power of the nation who score the run in match of final \"kapile Dev\"\n",
      "\n",
      "the name maharaja was Anup who had the power of the nation who score the run in match of final \"kapile Dev\"\n",
      "\n",
      "the name maharaja was Anup who had the power of the nation who score the run in match of final \"kapile Dev\"\n",
      "\n",
      "the name maharaja was Anup who had the power of the nation who score the run in match of final \"kapile Dev\"\n",
      "\n",
      "the name maharaja was Anup who had the power of the nation who score the run in match of final \"kapile Dev\"\n",
      "\n",
      "the name maharaja was Anup who had the power of the nation who score the run in match of final \"kapile Dev\"\n",
      "\n",
      "the name maharaja was Anup who had the power of the nation who score the run in match of final \"kapile Dev\"\n",
      "\n",
      "the name maharaja was Anup who had the power of the nation who score the run in match of final \"kapile Dev\"\n",
      "\n",
      "the name maharaja was Anup who had the power of the nation who score the run in match of final \"kapile Dev\"\n",
      "\n",
      "the name maharaja was Anup who had the power of the nation who score the run in match of final \"kapile Dev\"\n",
      "\n",
      "the name maharaja was Anup who had the power of the nation who score the run in match of final \"kapile Dev\"\n",
      "\n",
      "the name maharaja was Anup who had the power of the nation who score the run in match of final \"kapile Dev\"\n",
      "\n",
      "the name maharaja was Anup who had the power of the nation who score the run in match of final \"kapile Dev\"\n",
      "\n",
      "the name maharaja was Anup who had the power of the nation who score the run in match of final \"kapile Dev\"\n",
      "\n",
      "the name maharaja was Anup who had the power of the nation who score the run in match of final \"kapile Dev\"\n",
      "\n",
      "the name maharaja was Anup who had the power of the nation who score the run in match of final \"kapile Dev\"\n",
      "\n",
      "the name maharaja was Anup who had the power of the nation who score the run in match of final \"kapile Dev\"\n",
      "\n",
      "the name maharaja was Anup who had the power of the nation who score the run in match of final \"kapile Dev\"\n",
      "\n",
      "the name maharaja was Anup who had the power of the nation who score the run in match of final \"kapile Dev\"\n",
      "\n",
      "the name maharaja was Anup who had the power of the nation who score the run in match of final \"kapile Dev\"\n",
      "\n",
      "the name maharaja was Anup who had the power of the nation who score the run in match of final \"kapile Dev\"\n",
      "\n",
      "the name maharaja was Anup who had the power of the nation who score the run in match of final \"kapile Dev\"\n",
      "\n",
      "the name maharaja was Anup who had the power of the nation who score the run in match of final \"kapile Dev\"\n",
      "\n",
      "the name maharaja was Anup who had the power of the nation who score the run in match of final \"kapile Dev\"\n",
      "\n",
      "the name maharaja was Anup who had the power of the nation who score the run in match of final \"kapile Dev\"\n",
      "\n",
      "the name maharaja was Anup who had the power of the nation who score the run in match of final \"kapile Dev\"\n",
      "\n",
      "the name maharaja was Anup who had the power of the nation who score the run in match of final \"kapile Dev\"\n",
      "\n",
      "the name maharaja was Anup who had the power of the nation who score the run in match of final \"kapile Dev\"\n",
      "\n",
      "the name maharaja was Anup who had the power of the nation who score the run in match of final \"kapile Dev\"\n",
      "\n",
      "the name maharaja was Anup who had the power of the nation who score the run in match of final \"kapile Dev\"\n",
      "\n",
      "the name maharaja was Anup who had the power of the nation who score the run in match of final \"kapile Dev\"\n",
      "\n",
      "the name maharaja was Anup who had the power of the nation who score the run in match of final \"kapile Dev\"\n",
      "\n",
      "the name maharaja was Anup who had the power of the nation who score the run in match of final \"kapile Dev\"\n",
      "\n",
      "the name maharaja was Anup who had the power of the nation who score the run in match of final \"kapile Dev\"\n",
      "\n",
      "the name maharaja was Anup who had the power of the nation who score the run in match of final \"kapile Dev\"\n",
      "\n",
      "the name maharaja was Anup who had the power of the nation who score the run in match of final \"kapile Dev\"\n",
      "\n",
      "the name maharaja was Anup who had the power of the nation who score the run in match of final \"kapile Dev\"\n",
      "\n",
      "the name maharaja was Anup who had the power of the nation who score the run in match of final \"kapile Dev\"\n",
      "\n",
      "the name maharaja was Anup who had the power of the nation who score the run in match of final \"kapile Dev\"\n",
      "\n",
      "the name maharaja was Anup who had the power of the nation who score the run in match of final \"kapile Dev\"\n",
      "\n",
      "the name maharaja was Anup who had the power of the nation who score the run in match of final \"kapile Dev\"\n",
      "\n",
      "the name maharaja was Anup who had the power of the nation who score the run in match of final \"kapile Dev\"\n",
      "\n",
      "the name maharaja was Anup who had the power of the nation who score the run in match of final \"kapile Dev\"\n",
      "\n",
      "the name maharaja was Anup who had the power of the nation who score the run in match of final \"kapile Dev\"\n",
      "\n",
      "the name maharaja was Anup who had the power of the nation who score the run in match of final \"kapile Dev\"\n",
      "\n",
      "the name maharaja was Anup who had the power of the nation who score the run in match of final \"kapile Dev\"\n",
      "\n",
      "the name maharaja was Anup who had the power of the nation who score the run in match of final \"kapile Dev\"\n",
      "\n",
      "the name maharaja was Anup who had the power of the nation who score the run in match of final \"kapile Dev\"\n",
      "\n",
      "the name maharaja was Anup who had the power of the nation who score the run in match of final \"kapile Dev\"\n",
      "\n",
      "the name maharaja was Anup who had the power of the nation who score the run in match of final \"kapile Dev\"\n",
      "\n"
     ]
    }
   ],
   "source": [
    "for i in range(7,19):\n",
    "    pattern = \"[\" +str(i) + \"]\"\n",
    "    txt=txt.replace(pattern, \"\")\n",
    "    for i in \"!@#$%^\":\n",
    "        txt=txt.replace(i,\"\")\n",
    "\n",
    "        print(txt)\n",
    "print(txt)        "
   ]
  },
  {
   "cell_type": "code",
   "execution_count": 6,
   "id": "82a5e3d3",
   "metadata": {},
   "outputs": [],
   "source": [
    "fd= open(\"first.txt\", \"+a\")\n",
    "fd.write('I am the student of gceoc so I greatful for that.\\n ')\n",
    "fd.write('I know about you.\\n')\n",
    "fd.close()\n"
   ]
  },
  {
   "cell_type": "code",
   "execution_count": 7,
   "id": "39d6d070",
   "metadata": {},
   "outputs": [],
   "source": [
    "fd=open(\"first.txt\",\"a\")\n",
    "\n",
    "fd.write(\"I engneering student\")\n",
    "fd.write(\"I am in nature area\")\n",
    "fd.write(\"I am in the global world.\\n\")\n",
    "fd.close()\n"
   ]
  },
  {
   "cell_type": "code",
   "execution_count": 8,
   "id": "d4871ead",
   "metadata": {},
   "outputs": [],
   "source": [
    "file= open(\"first.txt\",'a')\n",
    "#taking input from the user\n",
    "user_input=input(\"enter your text:\")\n",
    "#writing user input with a new line\n",
    "file.write(user_input+\"\\n\")\n",
    "file.close()"
   ]
  },
  {
   "cell_type": "code",
   "execution_count": 9,
   "id": "bbb17407",
   "metadata": {},
   "outputs": [],
   "source": [
    "fd= open(\"data.txt\",'a')\n",
    "txt= input(\"enter the text:\")\n",
    "txt=txt+'.\\n'\n",
    "\n",
    "fd.write(txt)\n",
    "fd.close()"
   ]
  }
 ],
 "metadata": {
  "kernelspec": {
   "display_name": ".venv",
   "language": "python",
   "name": "python3"
  },
  "language_info": {
   "codemirror_mode": {
    "name": "ipython",
    "version": 3
   },
   "file_extension": ".py",
   "mimetype": "text/x-python",
   "name": "python",
   "nbconvert_exporter": "python",
   "pygments_lexer": "ipython3",
   "version": "3.12.9"
  }
 },
 "nbformat": 4,
 "nbformat_minor": 5
}
